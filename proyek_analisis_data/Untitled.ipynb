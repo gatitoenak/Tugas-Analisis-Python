{
 "cells": [
  {
   "cell_type": "markdown",
   "id": "f9c84326-6517-4f8f-9e3f-98c6cd0bd614",
   "metadata": {},
   "source": [
    "# Proyek Analisis Data: [Bike Sharing Dataset]\n",
    "- **Nama:** [Hasbuna Nashara]\n",
    "- **Email:** [m125b4kx1744@bangkit.academy]\n",
    "- **ID Dicoding:** [hasbunashara]"
   ]
  },
  {
   "cell_type": "code",
   "execution_count": 3,
   "id": "186f770d-ba5d-475e-a5c9-3cbd2abfa3b2",
   "metadata": {},
   "outputs": [],
   "source": [
    "import numpy as np\n",
    "import pandas as pd\n",
    "import matplotlib.pyplot as plt\n",
    "import seaborn as sns\n",
    "import os"
   ]
  },
  {
   "cell_type": "markdown",
   "id": "40190299-4b7a-4d5c-b8d5-08a400b77ea6",
   "metadata": {},
   "source": [
    "# Data Wrangling"
   ]
  },
  {
   "cell_type": "markdown",
   "id": "c883850a-9197-4b78-8091-4df707177e26",
   "metadata": {},
   "source": [
    "## Gathering Data"
   ]
  },
  {
   "cell_type": "code",
   "execution_count": 7,
   "id": "9c121f0e-2125-491f-8193-6a391029cb60",
   "metadata": {},
   "outputs": [
    {
     "name": "stderr",
     "output_type": "stream",
     "text": [
      "<>:2: SyntaxWarning: invalid escape sequence '\\B'\n",
      "<>:2: SyntaxWarning: invalid escape sequence '\\B'\n",
      "C:\\Users\\hasbu\\AppData\\Local\\Temp\\ipykernel_2364\\2817667140.py:2: SyntaxWarning: invalid escape sequence '\\B'\n",
      "  hour_df = pd.read_csv(\"E:\\Bangkit\\hasbuna\\proyek_analisis_data\\submission\\data\")\n",
      "C:\\Users\\hasbu\\AppData\\Local\\Temp\\ipykernel_2364\\2817667140.py:2: SyntaxWarning: invalid escape sequence '\\B'\n",
      "  hour_df = pd.read_csv(\"E:\\Bangkit\\hasbuna\\proyek_analisis_data\\submission\\data\")\n"
     ]
    },
    {
     "ename": "NameError",
     "evalue": "name 'file_path' is not defined",
     "output_type": "error",
     "traceback": [
      "\u001b[1;31m---------------------------------------------------------------------------\u001b[0m",
      "\u001b[1;31mNameError\u001b[0m                                 Traceback (most recent call last)",
      "Cell \u001b[1;32mIn[7], line 1\u001b[0m\n\u001b[1;32m----> 1\u001b[0m df \u001b[38;5;241m=\u001b[39m pd\u001b[38;5;241m.\u001b[39mread_csv(\u001b[43mfile_path\u001b[49m)\n\u001b[0;32m      2\u001b[0m hour_df \u001b[38;5;241m=\u001b[39m pd\u001b[38;5;241m.\u001b[39mread_csv(\u001b[38;5;124m\"\u001b[39m\u001b[38;5;124mE:\u001b[39m\u001b[38;5;124m\\\u001b[39m\u001b[38;5;124mBangkit\u001b[39m\u001b[38;5;124m\\\u001b[39m\u001b[38;5;124mhasbuna\u001b[39m\u001b[38;5;124m\\\u001b[39m\u001b[38;5;124mproyek_analisis_data\u001b[39m\u001b[38;5;124m\\\u001b[39m\u001b[38;5;124msubmission\u001b[39m\u001b[38;5;124m\\\u001b[39m\u001b[38;5;124mdata\u001b[39m\u001b[38;5;124m\"\u001b[39m)\n",
      "\u001b[1;31mNameError\u001b[0m: name 'file_path' is not defined"
     ]
    }
   ],
   "source": [
    "df = pd.read_csv(file_path)\n",
    "hour_df = pd.read_csv(\"E:\\Bangkit\\hasbuna\\proyek_analisis_data\\submission\\data\")"
   ]
  }
 ],
 "metadata": {
  "kernelspec": {
   "display_name": "Python 3 (ipykernel)",
   "language": "python",
   "name": "python3"
  },
  "language_info": {
   "codemirror_mode": {
    "name": "ipython",
    "version": 3
   },
   "file_extension": ".py",
   "mimetype": "text/x-python",
   "name": "python",
   "nbconvert_exporter": "python",
   "pygments_lexer": "ipython3",
   "version": "3.12.7"
  }
 },
 "nbformat": 4,
 "nbformat_minor": 5
}
